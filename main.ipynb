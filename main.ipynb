{
 "cells": [
  {
   "cell_type": "markdown",
   "metadata": {},
   "source": [
    "# Setting up the experiment"
   ]
  },
  {
   "cell_type": "code",
   "execution_count": 9,
   "metadata": {},
   "outputs": [
    {
     "name": "stdout",
     "output_type": "stream",
     "text": [
      "Requirement already satisfied: numpy in c:\\users\\leon1\\appdata\\local\\programs\\python\\python310\\lib\\site-packages (1.26.4)"
     ]
    },
    {
     "name": "stderr",
     "output_type": "stream",
     "text": [
      "WARNING: You are using pip version 21.2.3; however, version 24.0 is available.\n",
      "You should consider upgrading via the 'c:\\Users\\leon1\\AppData\\Local\\Programs\\Python\\Python310\\python.exe -m pip install --upgrade pip' command.\n"
     ]
    },
    {
     "name": "stdout",
     "output_type": "stream",
     "text": [
      "\n",
      "Requirement already satisfied: matplotlib in c:\\users\\leon1\\appdata\\local\\programs\\python\\python310\\lib\\site-packages (3.8.2)\n",
      "Requirement already satisfied: torch in c:\\users\\leon1\\appdata\\local\\programs\\python\\python310\\lib\\site-packages (2.2.0)\n",
      "Requirement already satisfied: sklearn in c:\\users\\leon1\\appdata\\local\\programs\\python\\python310\\lib\\site-packages (0.0)\n",
      "Requirement already satisfied: pandas in c:\\users\\leon1\\appdata\\local\\programs\\python\\python310\\lib\\site-packages (2.2.0)\n",
      "Requirement already satisfied: packaging>=20.0 in c:\\users\\leon1\\appdata\\roaming\\python\\python310\\site-packages (from matplotlib) (23.2)\n",
      "Requirement already satisfied: python-dateutil>=2.7 in c:\\users\\leon1\\appdata\\roaming\\python\\python310\\site-packages (from matplotlib) (2.8.2)\n",
      "Requirement already satisfied: contourpy>=1.0.1 in c:\\users\\leon1\\appdata\\local\\programs\\python\\python310\\lib\\site-packages (from matplotlib) (1.2.0)\n",
      "Requirement already satisfied: kiwisolver>=1.3.1 in c:\\users\\leon1\\appdata\\local\\programs\\python\\python310\\lib\\site-packages (from matplotlib) (1.4.5)\n",
      "Requirement already satisfied: fonttools>=4.22.0 in c:\\users\\leon1\\appdata\\local\\programs\\python\\python310\\lib\\site-packages (from matplotlib) (4.48.1)\n",
      "Requirement already satisfied: cycler>=0.10 in c:\\users\\leon1\\appdata\\local\\programs\\python\\python310\\lib\\site-packages (from matplotlib) (0.12.1)\n",
      "Requirement already satisfied: pyparsing>=2.3.1 in c:\\users\\leon1\\appdata\\local\\programs\\python\\python310\\lib\\site-packages (from matplotlib) (3.1.1)\n",
      "Requirement already satisfied: pillow>=8 in c:\\users\\leon1\\appdata\\local\\programs\\python\\python310\\lib\\site-packages (from matplotlib) (10.2.0)\n",
      "Requirement already satisfied: jinja2 in c:\\users\\leon1\\appdata\\local\\programs\\python\\python310\\lib\\site-packages (from torch) (3.1.3)\n",
      "Requirement already satisfied: networkx in c:\\users\\leon1\\appdata\\local\\programs\\python\\python310\\lib\\site-packages (from torch) (3.2.1)\n",
      "Requirement already satisfied: filelock in c:\\users\\leon1\\appdata\\local\\programs\\python\\python310\\lib\\site-packages (from torch) (3.13.1)\n",
      "Requirement already satisfied: fsspec in c:\\users\\leon1\\appdata\\local\\programs\\python\\python310\\lib\\site-packages (from torch) (2024.2.0)\n",
      "Requirement already satisfied: typing-extensions>=4.8.0 in c:\\users\\leon1\\appdata\\local\\programs\\python\\python310\\lib\\site-packages (from torch) (4.9.0)\n",
      "Requirement already satisfied: sympy in c:\\users\\leon1\\appdata\\local\\programs\\python\\python310\\lib\\site-packages (from torch) (1.12)\n",
      "Requirement already satisfied: scikit-learn in c:\\users\\leon1\\appdata\\local\\programs\\python\\python310\\lib\\site-packages (from sklearn) (1.4.0)\n",
      "Requirement already satisfied: tzdata>=2022.7 in c:\\users\\leon1\\appdata\\local\\programs\\python\\python310\\lib\\site-packages (from pandas) (2024.1)\n",
      "Requirement already satisfied: pytz>=2020.1 in c:\\users\\leon1\\appdata\\local\\programs\\python\\python310\\lib\\site-packages (from pandas) (2024.1)\n",
      "Requirement already satisfied: six>=1.5 in c:\\users\\leon1\\appdata\\roaming\\python\\python310\\site-packages (from python-dateutil>=2.7->matplotlib) (1.16.0)\n",
      "Requirement already satisfied: MarkupSafe>=2.0 in c:\\users\\leon1\\appdata\\local\\programs\\python\\python310\\lib\\site-packages (from jinja2->torch) (2.1.5)\n",
      "Requirement already satisfied: scipy>=1.6.0 in c:\\users\\leon1\\appdata\\local\\programs\\python\\python310\\lib\\site-packages (from scikit-learn->sklearn) (1.12.0)\n",
      "Requirement already satisfied: joblib>=1.2.0 in c:\\users\\leon1\\appdata\\local\\programs\\python\\python310\\lib\\site-packages (from scikit-learn->sklearn) (1.3.2)\n",
      "Requirement already satisfied: threadpoolctl>=2.0.0 in c:\\users\\leon1\\appdata\\local\\programs\\python\\python310\\lib\\site-packages (from scikit-learn->sklearn) (3.2.0)\n",
      "Requirement already satisfied: mpmath>=0.19 in c:\\users\\leon1\\appdata\\local\\programs\\python\\python310\\lib\\site-packages (from sympy->torch) (1.3.0)\n"
     ]
    }
   ],
   "source": [
    "#Dependency setup\n",
    "!python -m pip install numpy matplotlib torch sklearn pandas"
   ]
  },
  {
   "cell_type": "code",
   "execution_count": 10,
   "metadata": {},
   "outputs": [
    {
     "name": "stdout",
     "output_type": "stream",
     "text": [
      "Files already have been extracted\n"
     ]
    }
   ],
   "source": [
    "# Setting up the files for the first time\n",
    "!python dataset_setup.py"
   ]
  },
  {
   "cell_type": "markdown",
   "metadata": {},
   "source": [
    "## Some useful routines"
   ]
  },
  {
   "cell_type": "code",
   "execution_count": 12,
   "metadata": {},
   "outputs": [],
   "source": [
    "import matplotlib.pyplot as plt\n",
    "import numpy as np\n",
    "\n",
    "def display_CIFAR_Image(img):\n",
    "    img = img.reshape(3,32,32)\n",
    "    img = np.transpose(img, (1,2,0))\n",
    "    plt.imshow(img)\n",
    "    plt.show()"
   ]
  },
  {
   "cell_type": "markdown",
   "metadata": {},
   "source": [
    "# Setting up a FLWR environment"
   ]
  },
  {
   "cell_type": "code",
   "execution_count": 13,
   "metadata": {},
   "outputs": [
    {
     "name": "stdout",
     "output_type": "stream",
     "text": [
      "Training on cpu using PyTorch 2.2.0+cpu and Flower 1.7.0\n"
     ]
    }
   ],
   "source": [
    "import flwr as fl\n",
    "import datetime\n",
    "import torch\n",
    "import flwr.server.strategy as strategy\n",
    "\n",
    "from flwr.common import Metrics\n",
    "from partition_scripts import partition_CIFAR_equally\n",
    "\n",
    "\n",
    "today = datetime.datetime.today()\n",
    "fl.common.logger.configure(identifier=\"FL Paper Experiment\", filename=f\"log_FLWR_{today.timestamp()}.txt\")\n",
    "client_resources = None\n",
    "\n",
    "DEVICE = torch.device(\"cuda:0\" if torch.cuda.is_available() else \"cpu\")\n",
    "\n",
    "print(\n",
    "    f\"Training on {DEVICE} using PyTorch {torch.__version__} and Flower {fl.__version__}\"\n",
    ")\n",
    "\n",
    "NUM_CLIENTS = 5\n",
    "TRAINING_ROUNDS = 20\n",
    "\n",
    "DATA_STORE = {\n",
    "    \"CIFAR10_IID\": None,\n",
    "    \"CIFAR10_NonIID\": None,\n",
    "    \"CIFAR100_IID\": None,\n",
    "    \"CIFAR100_NonIID\": None,\n",
    "    \"FedFaces_IID\": None,\n",
    "    \"FedFaces_NonIID\": None,\n",
    "\n",
    "}\n",
    "\n",
    "\n",
    "# Specify client resources if you need GPU (defaults to 1 CPU and 0 GPU)\n",
    "if DEVICE.type == \"cpu\":\n",
    "    client_resources = {\"num_cpus\": 1, \"num_gpus\": 0}"
   ]
  },
  {
   "cell_type": "markdown",
   "metadata": {},
   "source": [
    "Now, we'll set up the Client configurations"
   ]
  },
  {
   "cell_type": "code",
   "execution_count": 14,
   "metadata": {},
   "outputs": [],
   "source": [
    "from typing import List, Tuple\n",
    "from logging import DEBUG, INFO\n",
    "from flwr.common.logger import log\n",
    "from neural_nets import get_parameters, set_parameters, train, test, VGG7, Net \n",
    "\n",
    "\n",
    "class FlowerClient(fl.client.NumPyClient):\n",
    "    def __init__(self, net, trainloader, valloader, cid):\n",
    "        self.net = net\n",
    "        self.trainloader = trainloader\n",
    "        self.valloader = valloader\n",
    "        self.cid = cid\n",
    "        self.round = 0\n",
    "\n",
    "    def get_parameters(self, config):\n",
    "        # Return the current local parameters\n",
    "        return get_parameters(self.net)\n",
    "\n",
    "    def fit(self, parameters, config):\n",
    "        # Train the local model after updating it with the given parameters\n",
    "        # Return the parameters from the newly trained model, the length\n",
    "        # of the training data, and a dict (empty in this case)\n",
    "        set_parameters(self.net, parameters)\n",
    "        train(self.net, self.trainloader, epochs = 1)\n",
    "        self.round+=1\n",
    "        log(DEBUG, f\"Client {self.cid} in round {self.round}\")\n",
    "        return get_parameters(self.net), len(self.trainloader), {}\n",
    "\n",
    "    def evaluate(self, parameters, config):\n",
    "        # Perform the evaluation of the model after updating it with the given\n",
    "        # parameters. Returns the loss as a float, the length of the validation\n",
    "        # data, and a dict containing the accuracy\n",
    "        set_parameters(self.net, parameters)\n",
    "        loss, accuracy = test(self.net, self.valloader)\n",
    "        return loss, len(self.valloader), {'accuracy': float(accuracy)}\n",
    "\n",
    "\n",
    "def weighted_average(metrics: List[Tuple[int, Metrics]]) -> Metrics:\n",
    "    # Multiply accuracy of each client by number of examples used\n",
    "    accuracies = [num_examples * m[\"accuracy\"] for num_examples, m in metrics]\n",
    "    examples = [num_examples for num_examples, _ in metrics]\n",
    "\n",
    "    # Aggregate and return custom metric (weighted average)\n",
    "    return {\"accuracy\": sum(accuracies) / sum(examples)}"
   ]
  },
  {
   "cell_type": "markdown",
   "metadata": {},
   "source": [
    "Then, setting up the strategies"
   ]
  },
  {
   "cell_type": "code",
   "execution_count": 15,
   "metadata": {},
   "outputs": [],
   "source": [
    "# Create FedAvg strategy\n",
    "fedAvg = fl.server.strategy.FedAvg(\n",
    "    fraction_fit=0.8,  # Sample 100% of available clients for training\n",
    "    fraction_evaluate=0.5,  # Sample 50% of available clients for evaluation\n",
    "    min_fit_clients=8,  # Never sample less than 10 clients for training\n",
    "    min_evaluate_clients=5,  # Never sample less than 5 clients for evaluation\n",
    "    min_available_clients=10,  # Wait until all 10 clients are available\n",
    "    evaluate_metrics_aggregation_fn=weighted_average,\n",
    ")\n",
    "DATA_STORE[\"CIFAR10_IID\"]= partition_CIFAR_equally(NUM_CLIENTS, \"CIFAR10\")\n",
    "\n",
    "# A couple of client_fns for using with Flower, one for each dataset experiment\n",
    "def client_fn_CIFAR10_IID(cid: str) -> FlowerClient:\n",
    "    \"\"\"Create a Flower client representing a single organization.\"\"\"\n",
    "\n",
    "    # Create model\n",
    "    net = Net().to(DEVICE)\n",
    "\n",
    "    # Load data (CIFAR-10)\n",
    "    trainloaders, valloaders,_ =  DATA_STORE[\"CIFAR10_IID\"]\n",
    "    # Note: each client gets a different trainloader/valloader, so each client\n",
    "    # will train and evaluate on their own unique data\n",
    "    trainloader = trainloaders[int(cid)]\n",
    "    valloader = valloaders[int(cid)]\n",
    "\n",
    "    # Create a  single Flower client representing a single organization\n",
    "    return FlowerClient(net, trainloader, valloader, cid).to_client()\n",
    "\n",
    "\n",
    "\n"
   ]
  },
  {
   "cell_type": "markdown",
   "metadata": {},
   "source": [
    "A quick run to check if Flower is working ok"
   ]
  },
  {
   "cell_type": "code",
   "execution_count": 16,
   "metadata": {},
   "outputs": [
    {
     "name": "stderr",
     "output_type": "stream",
     "text": [
      "INFO flwr 2024-02-16 13:45:04,275 | app.py:178 | Starting Flower simulation, config: ServerConfig(num_rounds=1, round_timeout=None)\n",
      "2024-02-16 13:45:09,556\tINFO worker.py:1621 -- Started a local Ray instance.\n",
      "INFO flwr 2024-02-16 13:45:11,940 | app.py:213 | Flower VCE: Ray initialized with resources: {'node:127.0.0.1': 1.0, 'object_store_memory': 2403256320.0, 'memory': 4806512640.0, 'CPU': 12.0, 'node:__internal_head__': 1.0}\n",
      "INFO flwr 2024-02-16 13:45:11,940 | app.py:219 | Optimize your simulation with Flower VCE: https://flower.dev/docs/framework/how-to-run-simulations.html\n",
      "INFO flwr 2024-02-16 13:45:11,940 | app.py:242 | Flower VCE: Resources for each Virtual Client: {'num_cpus': 1, 'num_gpus': 0}\n",
      "INFO flwr 2024-02-16 13:45:11,956 | app.py:288 | Flower VCE: Creating VirtualClientEngineActorPool with 12 actors\n",
      "INFO flwr 2024-02-16 13:45:11,956 | server.py:89 | Initializing global parameters\n",
      "INFO flwr 2024-02-16 13:45:11,956 | server.py:276 | Requesting initial parameters from one random client\n",
      "INFO flwr 2024-02-16 13:45:16,861 | server.py:280 | Received initial parameters from one random client\n",
      "INFO flwr 2024-02-16 13:45:16,861 | server.py:91 | Evaluating initial parameters\n",
      "INFO flwr 2024-02-16 13:45:16,861 | server.py:104 | FL starting\n"
     ]
    }
   ],
   "source": [
    "# Start simulation\n",
    "fl.simulation.start_simulation(\n",
    "    client_fn=client_fn_CIFAR10_IID,\n",
    "    num_clients=NUM_CLIENTS,\n",
    "    config=fl.server.ServerConfig(num_rounds=min(TRAINING_ROUNDS, 1)),\n",
    "    strategy=fedAvg,\n",
    "    client_resources=client_resources,\n",
    ")"
   ]
  },
  {
   "cell_type": "markdown",
   "metadata": {},
   "source": [
    "Ok, so now i'll encapsulate this code to reuse with different strategies and datasets"
   ]
  },
  {
   "cell_type": "code",
   "execution_count": 8,
   "metadata": {},
   "outputs": [],
   "source": [
    "class FedExperiment():\n",
    "\n",
    "    def __init__(self, client_fn, datasets, strategy, name=\"New experiment\"):\n",
    "        self.client_fn = client_fn\n",
    "        self.datasets = datasets\n",
    "        self.strategy = strategy\n",
    "        self.name = name\n",
    "\n",
    "    def simulate_FL(self):\n",
    "        log(INFO, \"\\n\" + 10 * \"========\" + \"\\n\" + self.name + \" has started\\n\" + 10 * \"========\"  )\n",
    "        fl.simulation.start_simulation(\n",
    "                            client_fn=client_fn_CIFAR10_IID,\n",
    "                            num_clients=NUM_CLIENTS,\n",
    "                            config=fl.server.ServerConfig(num_rounds=TRAINING_ROUNDS),\n",
    "                            strategy=fedAvg,\n",
    "                            client_resources=client_resources,\n",
    "                        )\n",
    "        log(INFO, 10 * \"========\" + \"\\n\" + self.name + \" has ended\\n\" + 10 * \"========\"  )"
   ]
  },
  {
   "cell_type": "code",
   "execution_count": 9,
   "metadata": {},
   "outputs": [
    {
     "name": "stderr",
     "output_type": "stream",
     "text": [
      "INFO flwr 2024-02-16 13:39:14,570 | 2254441562.py:10 | \n",
      "================================================================================\n",
      "CIFAR 10 - IID Distribution has started\n",
      "================================================================================\n",
      "INFO flwr 2024-02-16 13:39:14,571 | app.py:178 | Starting Flower simulation, config: ServerConfig(num_rounds=20, round_timeout=None)\n",
      "2024-02-16 13:39:17,435\tINFO worker.py:1621 -- Started a local Ray instance.\n",
      "INFO flwr 2024-02-16 13:39:19,451 | app.py:213 | Flower VCE: Ray initialized with resources: {'node:127.0.0.1': 1.0, 'object_store_memory': 2405165875.0, 'memory': 4810331751.0, 'CPU': 12.0, 'node:__internal_head__': 1.0}\n",
      "INFO flwr 2024-02-16 13:39:19,451 | app.py:219 | Optimize your simulation with Flower VCE: https://flower.dev/docs/framework/how-to-run-simulations.html\n",
      "INFO flwr 2024-02-16 13:39:19,451 | app.py:242 | Flower VCE: Resources for each Virtual Client: {'num_cpus': 1, 'num_gpus': 0}\n",
      "INFO flwr 2024-02-16 13:39:19,451 | app.py:288 | Flower VCE: Creating VirtualClientEngineActorPool with 12 actors\n",
      "INFO flwr 2024-02-16 13:39:19,467 | server.py:89 | Initializing global parameters\n",
      "INFO flwr 2024-02-16 13:39:19,467 | server.py:276 | Requesting initial parameters from one random client\n",
      "INFO flwr 2024-02-16 13:39:24,506 | server.py:280 | Received initial parameters from one random client\n",
      "INFO flwr 2024-02-16 13:39:24,507 | server.py:91 | Evaluating initial parameters\n",
      "INFO flwr 2024-02-16 13:39:24,508 | server.py:104 | FL starting\n",
      "DEBUG flwr 2024-02-16 13:39:24,509 | server.py:222 | fit_round 1: strategy sampled 8 clients (out of 10)\n",
      "\u001b[2m\u001b[36m(DefaultActor pid=10544)\u001b[0m c:\\Users\\leon1\\AppData\\Local\\Programs\\Python\\Python310\\lib\\site-packages\\flwr\\simulation\\ray_transport\\ray_actor.py:72: DeprecationWarning:  Ensure your client is of type `flwr.client.Client`. Please convert it using the `.to_client()` method before returning it in the `client_fn` you pass to `start_simulation`. We have applied this conversion on your behalf. Not returning a `Client` might trigger an error in future versions of Flower.\n",
      "\u001b[2m\u001b[36m(DefaultActor pid=10544)\u001b[0m   client = check_clientfn_returns_client(client_fn(cid))\n",
      "\u001b[2m\u001b[36m(DefaultActor pid=22448)\u001b[0m c:\\Users\\leon1\\AppData\\Local\\Programs\\Python\\Python310\\lib\\site-packages\\flwr\\simulation\\ray_transport\\ray_actor.py:72: DeprecationWarning:  Ensure your client is of type `flwr.client.Client`. Please convert it using the `.to_client()` method before returning it in the `client_fn` you pass to `start_simulation`. We have applied this conversion on your behalf. Not returning a `Client` might trigger an error in future versions of Flower.\u001b[32m [repeated 2x across cluster] (Ray deduplicates logs by default. Set RAY_DEDUP_LOGS=0 to disable log deduplication, or see https://docs.ray.io/en/master/ray-observability/ray-logging.html#log-deduplication for more options.)\u001b[0m\n",
      "\u001b[2m\u001b[36m(DefaultActor pid=22448)\u001b[0m   client = check_clientfn_returns_client(client_fn(cid))\u001b[32m [repeated 2x across cluster]\u001b[0m\n",
      "\u001b[2m\u001b[36m(DefaultActor pid=11324)\u001b[0m c:\\Users\\leon1\\AppData\\Local\\Programs\\Python\\Python310\\lib\\site-packages\\flwr\\simulation\\ray_transport\\ray_actor.py:72: DeprecationWarning:  Ensure your client is of type `flwr.client.Client`. Please convert it using the `.to_client()` method before returning it in the `client_fn` you pass to `start_simulation`. We have applied this conversion on your behalf. Not returning a `Client` might trigger an error in future versions of Flower.\u001b[32m [repeated 4x across cluster]\u001b[0m\n",
      "\u001b[2m\u001b[36m(DefaultActor pid=11324)\u001b[0m   client = check_clientfn_returns_client(client_fn(cid))\u001b[32m [repeated 4x across cluster]\u001b[0m\n",
      "\u001b[2m\u001b[36m(DefaultActor pid=10544)\u001b[0m DEBUG flwr 2024-02-16 13:41:08,174 | 601946939.py:26 | Client 7 in round 1\n",
      "\u001b[2m\u001b[36m(DefaultActor pid=2140)\u001b[0m c:\\Users\\leon1\\AppData\\Local\\Programs\\Python\\Python310\\lib\\site-packages\\flwr\\simulation\\ray_transport\\ray_actor.py:72: DeprecationWarning:  Ensure your client is of type `flwr.client.Client`. Please convert it using the `.to_client()` method before returning it in the `client_fn` you pass to `start_simulation`. We have applied this conversion on your behalf. Not returning a `Client` might trigger an error in future versions of Flower.\n",
      "\u001b[2m\u001b[36m(DefaultActor pid=2140)\u001b[0m   client = check_clientfn_returns_client(client_fn(cid))\n",
      "\u001b[2m\u001b[36m(DefaultActor pid=22844)\u001b[0m DEBUG flwr 2024-02-16 13:41:16,514 | 601946939.py:26 | Client 1 in round 1\n",
      "\u001b[2m\u001b[36m(DefaultActor pid=22448)\u001b[0m DEBUG flwr 2024-02-16 13:41:17,798 | 601946939.py:26 | Client 3 in round 1\n",
      "DEBUG flwr 2024-02-16 13:41:23,217 | server.py:236 | fit_round 1 received 8 results and 0 failures\n",
      "\u001b[2m\u001b[36m(DefaultActor pid=2140)\u001b[0m DEBUG flwr 2024-02-16 13:41:23,186 | 601946939.py:26 | Client 2 in round 1\u001b[32m [repeated 5x across cluster]\u001b[0m\n",
      "WARNING flwr 2024-02-16 13:41:23,304 | fedavg.py:250 | No fit_metrics_aggregation_fn provided\n",
      "DEBUG flwr 2024-02-16 13:41:23,306 | server.py:173 | evaluate_round 1: strategy sampled 5 clients (out of 10)\n",
      "DEBUG flwr 2024-02-16 13:41:31,582 | server.py:187 | evaluate_round 1 received 5 results and 0 failures\n",
      "DEBUG flwr 2024-02-16 13:41:31,583 | server.py:222 | fit_round 2: strategy sampled 8 clients (out of 10)\n",
      "\u001b[2m\u001b[36m(DefaultActor pid=16180)\u001b[0m DEBUG flwr 2024-02-16 13:43:27,238 | 601946939.py:26 | Client 7 in round 1\n",
      "\u001b[2m\u001b[36m(DefaultActor pid=24272)\u001b[0m DEBUG flwr 2024-02-16 13:43:35,631 | 601946939.py:26 | Client 5 in round 1\n",
      "\u001b[2m\u001b[36m(DefaultActor pid=4596)\u001b[0m DEBUG flwr 2024-02-16 13:43:41,499 | 601946939.py:26 | Client 9 in round 1\u001b[32m [repeated 2x across cluster]\u001b[0m\n"
     ]
    }
   ],
   "source": [
    "exp_CIFAR10_IID = FedExperiment(client_fn=client_fn_CIFAR10_IID, datasets=DATA_STORE[\"CIFAR10_IID\"], strategy=fedAvg, name=\"CIFAR 10 - IID Distribution\")\n",
    "exp_CIFAR10_IID.simulate_FL()"
   ]
  }
 ],
 "metadata": {
  "kernelspec": {
   "display_name": "Python 3",
   "language": "python",
   "name": "python3"
  },
  "language_info": {
   "codemirror_mode": {
    "name": "ipython",
    "version": 3
   },
   "file_extension": ".py",
   "mimetype": "text/x-python",
   "name": "python",
   "nbconvert_exporter": "python",
   "pygments_lexer": "ipython3",
   "version": "3.10.0"
  }
 },
 "nbformat": 4,
 "nbformat_minor": 2
}
