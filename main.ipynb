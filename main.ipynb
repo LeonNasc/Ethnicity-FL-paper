{
 "cells": [
  {
   "cell_type": "code",
   "execution_count": null,
   "metadata": {},
   "outputs": [],
   "source": [
    "#! pip3 install torch torchvision torchaudio"
   ]
  },
  {
   "cell_type": "markdown",
   "metadata": {},
   "source": [
    "# Setting up the experiment"
   ]
  },
  {
   "cell_type": "code",
   "execution_count": 1,
   "metadata": {},
   "outputs": [],
   "source": [
    "import torch\n",
    "import partition_scripts\n",
    "\n",
    "from neural_nets import Net, centralized_training, VGG7, get_parameters"
   ]
  },
  {
   "cell_type": "code",
   "execution_count": 2,
   "metadata": {},
   "outputs": [],
   "source": [
    "DATA_STORE = {\n",
    "    \"CIFAR10_IID\": None,\n",
    "    \"CIFAR10_NonIID\": None,\n",
    "    \"CIFAR100_IID\": None,\n",
    "    \"CIFAR100_NonIID\": None,\n",
    "    \"FedFaces_IID\": None,\n",
    "    \"FedFaces_NonIID\": None,\n",
    "\n",
    "}"
   ]
  },
  {
   "cell_type": "markdown",
   "metadata": {},
   "source": [
    "# Centralized training"
   ]
  },
  {
   "cell_type": "code",
   "execution_count": null,
   "metadata": {},
   "outputs": [],
   "source": [
    "experiments = [\"CIFAR10\", \"CIFAR100\", \"CelebA\", \"FedFaces\"]\n",
    "epochs = 400\n",
    "\n",
    "def run_centralized(experiment):\n",
    "    match experiment:\n",
    "        case \"CIFAR10\":\n",
    "            DATA_STORE[\"CIFAR10\"] = partition_scripts.partition_CIFAR_IID(2)\n",
    "            dataloaders, valloaders, testloaders = DATA_STORE[\"CIFAR10\"]\n",
    "            net = VGG7(classes=10)\n",
    "            centralized_training(trainloader=dataloaders[0], valloader=valloaders[0], testloader=testloaders, net=net, epochs=epochs, classes=10, DEVICE=\"cpu\")\n",
    "        case \"CIFAR100\":\n",
    "            DATA_STORE[\"CIFAR100\"] = partition_scripts.partition_CIFAR_IID(2, \"CIFAR100\")\n",
    "            dataloaders, valloaders, testloaders = DATA_STORE[\"CIFAR100\"]\n",
    "            net = VGG7(classes=100)\n",
    "            centralized_training(trainloader=dataloaders[0], valloader=valloaders[0], testloader=testloaders, epochs=epochs, classes=100)\n",
    "        case \"CelebA\":\n",
    "            DATA_STORE[\"CelebA\"] = partition_scripts.partition_CelebA_IID(2)\n",
    "            dataloaders, valloaders, testloaders = DATA_STORE[\"CelebA\"]\n",
    "            net = VGG7(classes=2, shape=(64, 64))\n",
    "            centralized_training(trainloader=dataloaders[0], valloader=valloaders[0], testloader=testloaders, epochs=epochs, net=net)\n",
    "        case \"FedFaces\":\n",
    "            DATA_STORE[\"FedFaces\"] = partition_scripts.partition_FedFaces_IID(2)\n",
    "            dataloaders, valloaders, testloaders = DATA_STORE[\"FedFaces\"]\n",
    "            net = VGG7(classes=4, shape=(64,64))\n",
    "            centralized_training(trainloader=dataloaders[0], valloader=valloaders[0], net=net, testloader=testloaders, epochs=epochs, classes=3)\n",
    "        case _:\n",
    "            pass\n",
    "\n"
   ]
  },
  {
   "cell_type": "code",
   "execution_count": null,
   "metadata": {},
   "outputs": [],
   "source": [
    "run_centralized(experiments[0])"
   ]
  },
  {
   "cell_type": "code",
   "execution_count": null,
   "metadata": {},
   "outputs": [],
   "source": [
    "run_centralized(experiments[1])"
   ]
  },
  {
   "cell_type": "code",
   "execution_count": null,
   "metadata": {},
   "outputs": [],
   "source": [
    "\n",
    "run_centralized(experiments[2])"
   ]
  },
  {
   "cell_type": "code",
   "execution_count": null,
   "metadata": {},
   "outputs": [],
   "source": [
    "run_centralized(experiments[-1])"
   ]
  },
  {
   "cell_type": "markdown",
   "metadata": {},
   "source": [
    "# Setting up a FLWR environment"
   ]
  },
  {
   "cell_type": "code",
   "execution_count": 3,
   "metadata": {},
   "outputs": [],
   "source": [
    "import datetime\n",
    "import flwr as fl\n",
    "import numpy as np\n",
    "\n",
    "from logging import INFO\n",
    "from flwr.common.logger import log\n",
    "from Clients import FlowerClient, weighted_average, fit_config"
   ]
  },
  {
   "cell_type": "code",
   "execution_count": 4,
   "metadata": {},
   "outputs": [
    {
     "name": "stdout",
     "output_type": "stream",
     "text": [
      "Training on cpu using PyTorch 2.2.1+cpu and Flower 1.7.0\n",
      "cpu\n"
     ]
    }
   ],
   "source": [
    "today = datetime.datetime.today()\n",
    "fl.common.logger.configure(identifier=\"FL Paper Experiment\", filename=f\"./logs/log_FLWR_{today.timestamp()}.txt\")\n",
    "\n",
    "DEVICE = torch.device(\"cuda:0\" if torch.cuda.is_available() else \"cpu\")\n",
    "\n",
    "print(\n",
    "    f\"Training on {DEVICE} using PyTorch {torch.__version__} and Flower {fl.__version__}\"\n",
    ")\n",
    "\n",
    "NUM_CLIENTS = 20\n",
    "TRAINING_ROUNDS = 50\n",
    "\n",
    "# Specify client resources if you need GPU (defaults to 1 CPU and 0 GPU)\n",
    "def  get_resources():\n",
    "    if DEVICE.type == \"cpu\":\n",
    "        client_resources = {\"num_cpus\": 4, \"num_gpus\": 0}\n",
    "    else:\n",
    "        client_resources = {\"num_cpus\": 2, \"num_gpus\": 1}\n",
    "\n",
    "    return client_resources\n",
    "\n",
    "client_resources = get_resources()\n",
    "print(DEVICE)"
   ]
  },
  {
   "cell_type": "code",
   "execution_count": 5,
   "metadata": {},
   "outputs": [],
   "source": [
    "# Needed for initial params in fedAdam and FedYogi\n",
    "sample_net = VGG7(classes=10)\n",
    "params = get_parameters(sample_net)"
   ]
  },
  {
   "cell_type": "markdown",
   "metadata": {},
   "source": [
    "Then, setting up the strategies"
   ]
  },
  {
   "cell_type": "code",
   "execution_count": 6,
   "metadata": {},
   "outputs": [],
   "source": [
    "fedAvg = fl.server.strategy.FedAvg(\n",
    "    fraction_fit=0.5,  \n",
    "    fraction_evaluate=0.5,  \n",
    "    min_fit_clients=1,  \n",
    "    min_evaluate_clients=1, \n",
    "    min_available_clients=1,\n",
    "    on_fit_config_fn=fit_config,\n",
    "    evaluate_metrics_aggregation_fn=weighted_average,\n",
    "    initial_parameters=fl.common.ndarrays_to_parameters(get_parameters(sample_net))\n",
    ")\n",
    "\n",
    "fedProx = fl.server.strategy.FedProx(\n",
    "    fraction_fit=0.5,  \n",
    "    fraction_evaluate=0.5,  \n",
    "    min_fit_clients=1,  \n",
    "    min_evaluate_clients=1, \n",
    "    min_available_clients=1,\n",
    "    on_fit_config_fn=fit_config,\n",
    "    evaluate_metrics_aggregation_fn=weighted_average,\n",
    "    proximal_mu= 0.5\n",
    ")\n",
    "\n",
    "fedAvgM = fl.server.strategy.FedAvgM(\n",
    "    fraction_fit=0.5,  \n",
    "    fraction_evaluate=0.5,  \n",
    "    min_fit_clients=1,  \n",
    "    min_evaluate_clients=1, \n",
    "    min_available_clients=1,\n",
    "    on_fit_config_fn=fit_config,\n",
    "    evaluate_metrics_aggregation_fn=weighted_average,\n",
    ")\n",
    "\n",
    "fedAdam = fl.server.strategy.FedAdam(\n",
    "    fraction_fit=0.5,  \n",
    "    fraction_evaluate=0.5,  \n",
    "    min_fit_clients=1,  \n",
    "    min_evaluate_clients=1, \n",
    "    min_available_clients=1,\n",
    "    on_fit_config_fn=fit_config,\n",
    "    evaluate_metrics_aggregation_fn=weighted_average,\n",
    "    initial_parameters=fl.common.ndarrays_to_parameters(get_parameters(sample_net))\n",
    ")\n",
    "\n",
    "fedYogi = fl.server.strategy.FedYogi(\n",
    "    fraction_fit=0.5,  \n",
    "    fraction_evaluate=0.5,  \n",
    "    min_fit_clients=1,  \n",
    "    min_evaluate_clients=1, \n",
    "    min_available_clients=1,\n",
    "    on_fit_config_fn=fit_config,\n",
    "    evaluate_metrics_aggregation_fn=weighted_average,\n",
    "    initial_parameters=fl.common.ndarrays_to_parameters(get_parameters(sample_net))\n",
    ")\n"
   ]
  },
  {
   "cell_type": "markdown",
   "metadata": {},
   "source": [
    "#### CIFAR10 setup: Client FNS ####"
   ]
  },
  {
   "cell_type": "code",
   "execution_count": 7,
   "metadata": {},
   "outputs": [],
   "source": [
    "# A couple of client_fns for using with Flower, one for each dataset experiment\n",
    "def client_fn_CIFAR10_IID(cid: str) -> FlowerClient:\n",
    "    \"\"\"Create a Flower client representing a single organization.\"\"\"\n",
    "\n",
    "    # Create model\n",
    "    net = VGG7(classes=10).to(DEVICE)\n",
    "\n",
    "    # Load data (CIFAR-10)\n",
    "    trainloaders, valloaders,_ =  DATA_STORE[\"CIFAR10_IID\"]\n",
    "    # Note: each client gets a different trainloader/valloader, so each client\n",
    "    # will train and evaluate on their own unique data\n",
    "    trainloader = trainloaders[int(cid)]\n",
    "    valloader = valloaders[int(cid)]\n",
    "\n",
    "    # Create a  single Flower client representing a single organization\n",
    "    return FlowerClient(net, trainloader, valloader, cid).to_client()\n",
    "\n",
    "def client_fn_CIFAR10_nonIID(cid: str) -> FlowerClient:\n",
    "    \"\"\"Create a Flower client representing a single organization.\"\"\"\n",
    "\n",
    "    # Create model\n",
    "    net = VGG7(classes=10).to(DEVICE)\n",
    "\n",
    "    # Load data (CIFAR-10)\n",
    "    trainloaders, valloaders,_ =  DATA_STORE[\"CIFAR10_NonIID\"]\n",
    "    # Note: each client gets a different trainloader/valloader, so each client\n",
    "    # will train and evaluate on their own unique data\n",
    "    trainloader = trainloaders[int(cid)]\n",
    "    valloader = valloaders[int(cid)]\n",
    "\n",
    "    # Create a  single Flower client representing a single organization\n",
    "    return FlowerClient(net, trainloader, valloader, cid).to_client()"
   ]
  },
  {
   "cell_type": "markdown",
   "metadata": {},
   "source": [
    "### FedExperiment Class ###\n",
    "Ok, so now i'll encapsulate this code to reuse with different strategies and datasets"
   ]
  },
  {
   "cell_type": "code",
   "execution_count": 8,
   "metadata": {},
   "outputs": [],
   "source": [
    "class FedExperiment():\n",
    "\n",
    "    def __init__(self, client_fn,strategy, name=\"New experiment\"):\n",
    "        self.client_fn = client_fn\n",
    "        self.strategy = strategy\n",
    "        self.name = name\n",
    "\n",
    "    def simulate_FL(self, rounds=1):\n",
    "        log(INFO, \"\\n\" + 10 * \"========\" + \"\\n\" + self.name + \" has started\\n\" + 10 * \"========\"  )\n",
    "        metrics = fl.simulation.start_simulation(\n",
    "                            client_fn=self.client_fn,\n",
    "                            num_clients=NUM_CLIENTS,\n",
    "                            config=fl.server.ServerConfig(num_rounds=rounds),\n",
    "                            strategy=self.strategy,\n",
    "                            client_resources=client_resources,\n",
    "                        )\n",
    "        log(INFO, \"\\n\" + 10 * \"========\" + \"\\n\" + self.name + \" has ended\\n\" + 10 * \"========\"  )\n",
    "        return metrics"
   ]
  },
  {
   "cell_type": "code",
   "execution_count": 9,
   "metadata": {},
   "outputs": [
    {
     "name": "stderr",
     "output_type": "stream",
     "text": [
      "INFO flwr 2024-03-11 15:55:00,861 | 527930960.py:9 | \n",
      "================================================================================\n",
      "CIFAR 10 - FedAvg - IID Distribution has started\n",
      "================================================================================\n",
      "INFO flwr 2024-03-11 15:55:00,862 | app.py:178 | Starting Flower simulation, config: ServerConfig(num_rounds=3, round_timeout=None)\n"
     ]
    },
    {
     "name": "stdout",
     "output_type": "stream",
     "text": [
      "Shape nonIID: (32, 32, 3)\n",
      "[0.05, 0.05, 0.05, 0.05, 0.05, 0.05, 0.05, 0.05, 0.05, 0.05, 0.05, 0.05, 0.05, 0.05, 0.05, 0.05, 0.05, 0.05, 0.05, 0.04999999899999996]\n",
      "0.9999999990000003\n"
     ]
    },
    {
     "name": "stderr",
     "output_type": "stream",
     "text": [
      "2024-03-11 15:55:04,229\tINFO worker.py:1621 -- Started a local Ray instance.\n",
      "INFO flwr 2024-03-11 15:55:06,327 | app.py:213 | Flower VCE: Ray initialized with resources: {'node:__internal_head__': 1.0, 'memory': 3484164096.0, 'node:127.0.0.1': 1.0, 'object_store_memory': 1742082048.0, 'CPU': 12.0}\n",
      "INFO flwr 2024-03-11 15:55:06,328 | app.py:219 | Optimize your simulation with Flower VCE: https://flower.dev/docs/framework/how-to-run-simulations.html\n",
      "INFO flwr 2024-03-11 15:55:06,328 | app.py:242 | Flower VCE: Resources for each Virtual Client: {'num_cpus': 4, 'num_gpus': 0}\n",
      "INFO flwr 2024-03-11 15:55:06,328 | app.py:288 | Flower VCE: Creating VirtualClientEngineActorPool with 3 actors\n",
      "INFO flwr 2024-03-11 15:55:06,342 | server.py:89 | Initializing global parameters\n",
      "INFO flwr 2024-03-11 15:55:06,343 | server.py:272 | Using initial parameters provided by strategy\n",
      "INFO flwr 2024-03-11 15:55:06,344 | server.py:91 | Evaluating initial parameters\n",
      "INFO flwr 2024-03-11 15:55:06,345 | server.py:104 | FL starting\n",
      "DEBUG flwr 2024-03-11 15:55:06,346 | server.py:222 | fit_round 1: strategy sampled 10 clients (out of 20)\n"
     ]
    },
    {
     "name": "stdout",
     "output_type": "stream",
     "text": [
      "\u001b[2m\u001b[36m(DefaultActor pid=11728)\u001b[0m [Client 11, round 1] fit, config: {'server_round': 1, 'local_epochs': 3}\n",
      "\u001b[2m\u001b[36m(DefaultActor pid=5848)\u001b[0m [Client 3, round 1] fit, config: {'server_round': 1, 'local_epochs': 3}\u001b[32m [repeated 2x across cluster] (Ray deduplicates logs by default. Set RAY_DEDUP_LOGS=0 to disable log deduplication, or see https://docs.ray.io/en/master/ray-observability/ray-logging.html#log-deduplication for more options.)\u001b[0m\n",
      "\u001b[2m\u001b[36m(DefaultActor pid=11728)\u001b[0m [Client 13, round 1] fit, config: {'server_round': 1, 'local_epochs': 3}\n",
      "\u001b[2m\u001b[36m(DefaultActor pid=12328)\u001b[0m [Client 5, round 1] fit, config: {'server_round': 1, 'local_epochs': 3}\n",
      "\u001b[2m\u001b[36m(DefaultActor pid=5848)\u001b[0m [Client 15, round 1] fit, config: {'server_round': 1, 'local_epochs': 3}\n",
      "\u001b[2m\u001b[36m(DefaultActor pid=11728)\u001b[0m [Client 16, round 1] fit, config: {'server_round': 1, 'local_epochs': 3}\n",
      "\u001b[2m\u001b[36m(DefaultActor pid=5848)\u001b[0m [Client 7, round 1] fit, config: {'server_round': 1, 'local_epochs': 3}\u001b[32m [repeated 2x across cluster]\u001b[0m\n",
      "\u001b[2m\u001b[36m(DefaultActor pid=11728)\u001b[0m [Client 10, round 1] fit, config: {'server_round': 1, 'local_epochs': 3}\n"
     ]
    },
    {
     "name": "stderr",
     "output_type": "stream",
     "text": [
      "DEBUG flwr 2024-03-11 16:00:04,795 | server.py:236 | fit_round 1 received 10 results and 0 failures\n",
      "WARNING flwr 2024-03-11 16:00:05,779 | fedavg.py:250 | No fit_metrics_aggregation_fn provided\n",
      "DEBUG flwr 2024-03-11 16:00:05,785 | server.py:173 | evaluate_round 1: strategy sampled 10 clients (out of 20)\n"
     ]
    },
    {
     "name": "stdout",
     "output_type": "stream",
     "text": [
      "\u001b[2m\u001b[36m(DefaultActor pid=11728)\u001b[0m [Client 13] evaluate, config: {}\n",
      "\u001b[2m\u001b[36m(DefaultActor pid=12328)\u001b[0m [Client 0] evaluate, config: {}\u001b[32m [repeated 6x across cluster]\u001b[0m\n"
     ]
    },
    {
     "name": "stderr",
     "output_type": "stream",
     "text": [
      "DEBUG flwr 2024-03-11 16:00:14,278 | server.py:187 | evaluate_round 1 received 10 results and 0 failures\n",
      "DEBUG flwr 2024-03-11 16:00:14,278 | server.py:222 | fit_round 2: strategy sampled 10 clients (out of 20)\n"
     ]
    },
    {
     "name": "stdout",
     "output_type": "stream",
     "text": [
      "\u001b[2m\u001b[36m(DefaultActor pid=12328)\u001b[0m [Client 5, round 2] fit, config: {'server_round': 2, 'local_epochs': 3}\n",
      "\u001b[2m\u001b[36m(DefaultActor pid=12328)\u001b[0m [Client 18] evaluate, config: {}\u001b[32m [repeated 3x across cluster]\u001b[0m\n"
     ]
    }
   ],
   "source": [
    "DATA_STORE[\"CIFAR10_IID\"]= partition_scripts.partition_CIFAR_IID(NUM_CLIENTS, \"CIFAR10\")\n",
    "exp_CIFAR10_IID = FedExperiment(client_fn=client_fn_CIFAR10_IID, strategy=fedAvg, name=\"CIFAR 10 - FedAvg - IID Distribution\")\n",
    "metrics = exp_CIFAR10_IID.simulate_FL(rounds=3)\n",
    "print(metrics)\n",
    "DATA_STORE[\"CIFAR10_IID\"]= None"
   ]
  }
 ],
 "metadata": {
  "kernelspec": {
   "display_name": "Python 3",
   "language": "python",
   "name": "python3"
  },
  "language_info": {
   "codemirror_mode": {
    "name": "ipython",
    "version": 3
   },
   "file_extension": ".py",
   "mimetype": "text/x-python",
   "name": "python",
   "nbconvert_exporter": "python",
   "pygments_lexer": "ipython3",
   "version": "3.10.0"
  }
 },
 "nbformat": 4,
 "nbformat_minor": 2
}
